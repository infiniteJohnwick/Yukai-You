{
  "nbformat": 4,
  "nbformat_minor": 0,
  "metadata": {
    "colab": {
      "provenance": []
    },
    "kernelspec": {
      "name": "python3",
      "display_name": "Python 3"
    },
    "language_info": {
      "name": "python"
    }
  },
  "cells": [
    {
      "cell_type": "markdown",
      "source": [
        "# 0.) Import and Clean data"
      ],
      "metadata": {
        "id": "7ywSRtNI4s5h"
      }
    },
    {
      "cell_type": "code",
      "execution_count": 24,
      "metadata": {
        "id": "nsG1QV154GYZ"
      },
      "outputs": [],
      "source": [
        "import pandas as pd\n",
        "from google.colab import drive\n",
        "import matplotlib.pyplot as plt\n",
        "import numpy as np\n",
        "from sklearn.preprocessing import StandardScaler\n",
        "from sklearn.cluster import KMeans"
      ]
    },
    {
      "cell_type": "code",
      "source": [],
      "metadata": {
        "id": "lFEZb7-YfvAj"
      },
      "execution_count": 24,
      "outputs": []
    },
    {
      "cell_type": "code",
      "source": [
        "#drive.mount('/content/gdrive/', force_remount = True)\n",
        "df = pd.read_csv(\"Country-data.csv\", sep = \",\")"
      ],
      "metadata": {
        "id": "Iku0T8Ou4Lcu"
      },
      "execution_count": 25,
      "outputs": []
    },
    {
      "cell_type": "code",
      "source": [
        "names=df[[\"country\"]].copy()\n",
        "X=df.drop([\"country\"],axis=1)"
      ],
      "metadata": {
        "id": "KJQfo8mz43Kz"
      },
      "execution_count": 26,
      "outputs": []
    },
    {
      "cell_type": "code",
      "source": [
        "scaler=StandardScaler().fit(X)\n",
        "X_scaled=scaler.transform(X)"
      ],
      "metadata": {
        "id": "mKWSRv-q98wE"
      },
      "execution_count": 27,
      "outputs": []
    },
    {
      "cell_type": "code",
      "source": [],
      "metadata": {
        "id": "Oj-k5XJNCNOr"
      },
      "execution_count": 27,
      "outputs": []
    },
    {
      "cell_type": "code",
      "source": [
        "\n"
      ],
      "metadata": {
        "id": "amzzWZ-G9SNe"
      },
      "execution_count": 27,
      "outputs": []
    },
    {
      "cell_type": "code",
      "source": [],
      "metadata": {
        "id": "PavsPgGU9Rrx"
      },
      "execution_count": 27,
      "outputs": []
    },
    {
      "cell_type": "code",
      "source": [],
      "metadata": {
        "id": "DKi1mPRN9DOk"
      },
      "execution_count": 27,
      "outputs": []
    },
    {
      "cell_type": "code",
      "source": [],
      "metadata": {
        "id": "_pymTFCVMZCN"
      },
      "execution_count": 27,
      "outputs": []
    },
    {
      "cell_type": "markdown",
      "source": [
        "# 1.) Fit a kmeans Model with any Number of Clusters"
      ],
      "metadata": {
        "id": "YLn6XlFqMaCY"
      }
    },
    {
      "cell_type": "code",
      "source": [
        "kmeans=KMeans(n_clusters=5).fit(X_scaled)"
      ],
      "metadata": {
        "id": "ntDMWRN-8yAi",
        "colab": {
          "base_uri": "https://localhost:8080/",
          "height": 0
        },
        "outputId": "e2e7aea2-32ce-4dec-eedf-c4a4f24140ea"
      },
      "execution_count": 28,
      "outputs": [
        {
          "output_type": "stream",
          "name": "stderr",
          "text": [
            "/usr/local/lib/python3.10/dist-packages/sklearn/cluster/_kmeans.py:870: FutureWarning: The default value of `n_init` will change from 10 to 'auto' in 1.4. Set the value of `n_init` explicitly to suppress the warning\n",
            "  warnings.warn(\n"
          ]
        }
      ]
    },
    {
      "cell_type": "code",
      "source": [],
      "metadata": {
        "id": "bzwvr8PJMtrr"
      },
      "execution_count": 28,
      "outputs": []
    },
    {
      "cell_type": "markdown",
      "source": [
        "# 2.) Pick two features to visualize across"
      ],
      "metadata": {
        "id": "LkpVmNYRMtyq"
      }
    },
    {
      "cell_type": "code",
      "source": [
        "X.columns"
      ],
      "metadata": {
        "colab": {
          "base_uri": "https://localhost:8080/",
          "height": 0
        },
        "id": "oTmfYVYrN53a",
        "outputId": "aa35952c-5364-473e-b104-f58afc184429"
      },
      "execution_count": 29,
      "outputs": [
        {
          "output_type": "execute_result",
          "data": {
            "text/plain": [
              "Index(['child_mort', 'exports', 'health', 'imports', 'income', 'inflation',\n",
              "       'life_expec', 'total_fer', 'gdpp'],\n",
              "      dtype='object')"
            ]
          },
          "metadata": {},
          "execution_count": 29
        }
      ]
    },
    {
      "cell_type": "code",
      "source": [
        "import matplotlib.pyplot as plt\n",
        "\n",
        "x1_index = 0\n",
        "x2_index = 0\n",
        "\n",
        "\n",
        "scatter = plt.scatter(X_scaled[:, x1_index], X_scaled[:, x2_index], c=kmeans.labels_, cmap='viridis', label='Clusters')\n",
        "\n",
        "\n",
        "centers = plt.scatter(kmeans.cluster_centers_[:, x1_index], kmeans.cluster_centers_[:, x2_index], marker='o', color='black', s=100, label='Centers')\n",
        "\n",
        "plt.xlabel(X.columns[x1_index])\n",
        "plt.ylabel(X.columns[x2_index])\n",
        "plt.title('Scatter Plot of Customers')\n",
        "\n",
        "# Generate legend\n",
        "plt.legend()\n",
        "\n",
        "plt.grid()\n",
        "plt.show()"
      ],
      "metadata": {
        "id": "GksDZxUsDbzM",
        "colab": {
          "base_uri": "https://localhost:8080/",
          "height": 472
        },
        "outputId": "b3e4ad53-159a-4991-92ee-3dc7e85842d2"
      },
      "execution_count": 30,
      "outputs": [
        {
          "output_type": "display_data",
          "data": {
            "text/plain": [
              "<Figure size 640x480 with 1 Axes>"
            ],
            "image/png": "[encoded data removed]"
          },
          "metadata": {}
        }
      ]
    },
    {
      "cell_type": "code",
      "source": [],
      "metadata": {
        "id": "s5_iv2ODDb2a"
      },
      "execution_count": 30,
      "outputs": []
    },
    {
      "cell_type": "code",
      "source": [],
      "metadata": {
        "id": "j62ujepWDb5R"
      },
      "execution_count": 30,
      "outputs": []
    },
    {
      "cell_type": "markdown",
      "source": [
        "# 3.) Check a range of k-clusters and visualize to find the elbow. Test 30 different random starting places for the centroid means\n"
      ],
      "metadata": {
        "id": "827DR0zsOkNA"
      }
    },
    {
      "cell_type": "code",
      "source": [
        "WCSSs=[]\n",
        "ks=range(1,15)\n",
        "for k in ks:\n",
        "  kmeans=KMeans(n_clusters=k,n_init=30,init=\"random\")\n",
        "  kmeans.fit(X_scaled)\n",
        "  WCSSs.append(kmeans.inertia_)"
      ],
      "metadata": {
        "id": "L66GonbU5NAg"
      },
      "execution_count": 31,
      "outputs": []
    },
    {
      "cell_type": "code",
      "source": [
        "WCSSs"
      ],
      "metadata": {
        "id": "2_YuJa4IFKda",
        "colab": {
          "base_uri": "https://localhost:8080/",
          "height": 0
        },
        "outputId": "99cd0a6b-d497-4282-cc4a-78c6e2e2e2cf"
      },
      "execution_count": 32,
      "outputs": [
        {
          "output_type": "execute_result",
          "data": {
            "text/plain": [
              "[1503.0,\n",
              " 1050.2145582853307,\n",
              " 831.4244352086876,\n",
              " 700.3229986404376,\n",
              " 628.7903934340947,\n",
              " 564.0203792020267,\n",
              " 512.2814355759118,\n",
              " 462.75661059486356,\n",
              " 429.215400846889,\n",
              " 396.81827835733804,\n",
              " 384.4063069588758,\n",
              " 360.56628046093124,\n",
              " 333.70524734429404,\n",
              " 328.8079371852853]"
            ]
          },
          "metadata": {},
          "execution_count": 32
        }
      ]
    },
    {
      "cell_type": "markdown",
      "source": [
        "# 4.) Use the above work and economic critical thinking to choose a number of clusters. Explain why you chose the number of clusters and fit a model accordingly."
      ],
      "metadata": {
        "id": "aNEDRA7XPkMN"
      }
    },
    {
      "cell_type": "code",
      "source": [
        "plt.plot(ks,WCSSs)\n",
        "plt.xlabel(\"number of clusters\")\n",
        "plt.ylabel(\"WCSSs\")\n",
        "plt.show()"
      ],
      "metadata": {
        "id": "xVkOkyieotiv",
        "colab": {
          "base_uri": "https://localhost:8080/",
          "height": 449
        },
        "outputId": "3ee118b4-1eb9-419d-dd11-0e427bf9ecc0"
      },
      "execution_count": 33,
      "outputs": [
        {
          "output_type": "display_data",
          "data": {
            "text/plain": [
              "<Figure size 640x480 with 1 Axes>"
            ],
            "image/png": "[encoded data removed]"
          },
          "metadata": {}
        }
      ]
    },
    {
      "cell_type": "code",
      "source": [],
      "metadata": {
        "id": "Vfz1eA5ZP4wE"
      },
      "execution_count": 33,
      "outputs": []
    },
    {
      "cell_type": "code",
      "source": [],
      "metadata": {
        "id": "o0TG8sABQake"
      },
      "execution_count": 33,
      "outputs": []
    },
    {
      "cell_type": "code",
      "source": [],
      "metadata": {
        "id": "5x15dZXcpd83"
      },
      "execution_count": 33,
      "outputs": []
    },
    {
      "cell_type": "code",
      "source": [],
      "metadata": {
        "id": "SyN98hIcpd_c"
      },
      "execution_count": 33,
      "outputs": []
    },
    {
      "cell_type": "code",
      "source": [],
      "metadata": {
        "id": "q2rbkLFksEAv"
      },
      "execution_count": 33,
      "outputs": []
    },
    {
      "cell_type": "markdown",
      "source": [
        "# 6.) Do the same for a silhoutte plot"
      ],
      "metadata": {
        "id": "FNgPPYCGsE4X"
      }
    },
    {
      "cell_type": "code",
      "source": [
        "from sklearn.metrics import silhouette_score"
      ],
      "metadata": {
        "id": "I8YXoj7SsM8S"
      },
      "execution_count": 34,
      "outputs": []
    },
    {
      "cell_type": "code",
      "source": [
        "SCs=[]\n",
        "ks=range(2,15)\n",
        "for k in ks:\n",
        "  kmeans=KMeans(n_clusters=k,n_init=30,init=\"random\")\n",
        "  kmeans.fit(X_scaled)\n",
        "  labs=kmeans.labels_\n",
        "  SCs.append(silhouette_score(X_scaled,labs))"
      ],
      "metadata": {
        "id": "74EiOYI8sDv7"
      },
      "execution_count": 35,
      "outputs": []
    },
    {
      "cell_type": "code",
      "source": [
        "plt.plot(ks,SCs)\n",
        "plt.xlabel(\"number of clusters\")\n",
        "plt.ylabel(\"silhouette_score\")\n",
        "plt.show()"
      ],
      "metadata": {
        "id": "-MSYcJvBBSlx",
        "colab": {
          "base_uri": "https://localhost:8080/",
          "height": 449
        },
        "outputId": "c492d578-9107-442f-e367-00383052235c"
      },
      "execution_count": 36,
      "outputs": [
        {
          "output_type": "display_data",
          "data": {
            "text/plain": [
              "<Figure size 640x480 with 1 Axes>"
            ],
            "image/png": "[encoded data removed]"
          },
          "metadata": {}
        }
      ]
    },
    {
      "cell_type": "markdown",
      "source": [
        "# 7.) Create a list of the countries that are in each cluster. Write interesting things you notice."
      ],
      "metadata": {
        "id": "Z6xfLRZIRfdl"
      }
    },
    {
      "cell_type": "code",
      "source": [
        "kmeans=KMeans(n_clusters=2,n_init=30,init=\"random\").fit(X_scaled)"
      ],
      "metadata": {
        "id": "fGuVFuzxStqP"
      },
      "execution_count": 37,
      "outputs": []
    },
    {
      "cell_type": "code",
      "source": [
        "preds=pd.DataFrame(kmeans.predict(X_scaled))"
      ],
      "metadata": {
        "id": "qFlTV1xWp-gO"
      },
      "execution_count": 38,
      "outputs": []
    },
    {
      "cell_type": "code",
      "source": [
        "output=pd.concat([preds,df],axis=1)"
      ],
      "metadata": {
        "id": "w1k1V7SxtMzr"
      },
      "execution_count": 39,
      "outputs": []
    },
    {
      "cell_type": "code",
      "source": [
        "output\n",
        "print(\"Cluster 1:\")\n",
        "list(output.loc[output[0]==0,\"country\"])"
      ],
      "metadata": {
        "id": "00UPyBcb7iev",
        "colab": {
          "base_uri": "https://localhost:8080/",
          "height": 0
        },
        "outputId": "9e362032-4019-460a-f801-06ae59a5a86b"
      },
      "execution_count": 40,
      "outputs": [
        {
          "output_type": "stream",
          "name": "stdout",
          "text": [
            "Cluster 1:\n"
          ]
        },
        {
          "output_type": "execute_result",
          "data": {
            "text/plain": [
              "['Afghanistan',\n",
              " 'Angola',\n",
              " 'Bangladesh',\n",
              " 'Benin',\n",
              " 'Bolivia',\n",
              " 'Botswana',\n",
              " 'Burkina Faso',\n",
              " 'Burundi',\n",
              " 'Cambodia',\n",
              " 'Cameroon',\n",
              " 'Central African Republic',\n",
              " 'Chad',\n",
              " 'Comoros',\n",
              " 'Congo, Dem. Rep.',\n",
              " 'Congo, Rep.',\n",
              " \"Cote d'Ivoire\",\n",
              " 'Egypt',\n",
              " 'Equatorial Guinea',\n",
              " 'Eritrea',\n",
              " 'Gabon',\n",
              " 'Gambia',\n",
              " 'Ghana',\n",
              " 'Guatemala',\n",
              " 'Guinea',\n",
              " 'Guinea-Bissau',\n",
              " 'Guyana',\n",
              " 'Haiti',\n",
              " 'India',\n",
              " 'Indonesia',\n",
              " 'Iraq',\n",
              " 'Kenya',\n",
              " 'Kiribati',\n",
              " 'Kyrgyz Republic',\n",
              " 'Lao',\n",
              " 'Lesotho',\n",
              " 'Liberia',\n",
              " 'Madagascar',\n",
              " 'Malawi',\n",
              " 'Mali',\n",
              " 'Mauritania',\n",
              " 'Micronesia, Fed. Sts.',\n",
              " 'Mongolia',\n",
              " 'Mozambique',\n",
              " 'Myanmar',\n",
              " 'Namibia',\n",
              " 'Nepal',\n",
              " 'Niger',\n",
              " 'Nigeria',\n",
              " 'Pakistan',\n",
              " 'Philippines',\n",
              " 'Rwanda',\n",
              " 'Samoa',\n",
              " 'Senegal',\n",
              " 'Sierra Leone',\n",
              " 'Solomon Islands',\n",
              " 'South Africa',\n",
              " 'Sudan',\n",
              " 'Tajikistan',\n",
              " 'Tanzania',\n",
              " 'Timor-Leste',\n",
              " 'Togo',\n",
              " 'Tonga',\n",
              " 'Turkmenistan',\n",
              " 'Uganda',\n",
              " 'Uzbekistan',\n",
              " 'Vanuatu',\n",
              " 'Yemen',\n",
              " 'Zambia']"
            ]
          },
          "metadata": {},
          "execution_count": 40
        }
      ]
    },
    {
      "cell_type": "code",
      "source": [
        "\n",
        "print(\"Cluster 2:\")\n",
        "list(output.loc[output[0]==0])"
      ],
      "metadata": {
        "id": "OjPdGujLp-iz",
        "colab": {
          "base_uri": "https://localhost:8080/",
          "height": 0
        },
        "outputId": "d9a2c1b2-c92c-4f03-e670-c8421c269969"
      },
      "execution_count": 41,
      "outputs": [
        {
          "output_type": "stream",
          "name": "stdout",
          "text": [
            "Cluster 2:\n"
          ]
        },
        {
          "output_type": "execute_result",
          "data": {
            "text/plain": [
              "[0,\n",
              " 'country',\n",
              " 'child_mort',\n",
              " 'exports',\n",
              " 'health',\n",
              " 'imports',\n",
              " 'income',\n",
              " 'inflation',\n",
              " 'life_expec',\n",
              " 'total_fer',\n",
              " 'gdpp']"
            ]
          },
          "metadata": {},
          "execution_count": 41
        }
      ]
    },
    {
      "cell_type": "code",
      "source": [],
      "metadata": {
        "id": "Wyx_BAAip-l6"
      },
      "execution_count": 41,
      "outputs": []
    },
    {
      "cell_type": "code",
      "source": [
        "#### Write an observation"
      ],
      "metadata": {
        "id": "LTutrUGlqqha"
      },
      "execution_count": 42,
      "outputs": []
    },
    {
      "cell_type": "markdown",
      "source": [
        "The observation shows how cluster analysis can be used not only to group entities like countries based on certain characteristics but also to analyze and potentially group the characteristics themselves. This dual application can provide insights into the data structure, indicating both how entities are similar and how features relate to each other, possibly revealing underlying patterns or relationships within the dataset."
      ],
      "metadata": {
        "id": "TLW4RsOi9Dul"
      }
    },
    {
      "cell_type": "markdown",
      "source": [
        "#8.) Create a table of Descriptive Statistics. Rows being the Cluster number and columns being all the features. Values being the mean of the centroid. Use the nonscaled X values for interprotation"
      ],
      "metadata": {
        "id": "nEmf0AxkTJc1"
      }
    },
    {
      "cell_type": "code",
      "source": [
        "output.groupby(0).std()"
      ],
      "metadata": {
        "id": "ELmUB7bMTIJL",
        "colab": {
          "base_uri": "https://localhost:8080/",
          "height": 178
        },
        "outputId": "bfcf2fe2-b320-475a-dd39-887e6bc4c782"
      },
      "execution_count": 43,
      "outputs": [
        {
          "output_type": "stream",
          "name": "stderr",
          "text": [
            "<ipython-input-43-96ffda24b430>:1: FutureWarning: The default value of numeric_only in DataFrameGroupBy.std is deprecated. In a future version, numeric_only will default to False. Either specify numeric_only or select only columns which should be valid for the function.\n",
            "  output.groupby(0).std()\n"
          ]
        },
        {
          "output_type": "execute_result",
          "data": {
            "text/plain": [
              "   child_mort    exports    health    imports        income  inflation  \\\n",
              "0                                                                        \n",
              "0   38.076068  18.201742  2.645319  19.323451   4890.581414  13.682630   \n",
              "1    8.523122  30.116032  2.716652  26.928785  20441.749847   6.957187   \n",
              "\n",
              "   life_expec  total_fer          gdpp  \n",
              "0                                       \n",
              "0    6.897418   1.285590   2528.509189  \n",
              "1    3.735757   0.486744  20578.727127  "
            ],
            "text/html": [
              "\n",
              "  <div id=\"df-35754096-09f1-453b-b552-47da0b865940\" class=\"colab-df-container\">\n",
              "    <div>\n",
              "<style scoped>\n",
              "    .dataframe tbody tr th:only-of-type {\n",
              "        vertical-align: middle;\n",
              "    }\n",
              "\n",
              "    .dataframe tbody tr th {\n",
              "        vertical-align: top;\n",
              "    }\n",
              "\n",
              "    .dataframe thead th {\n",
              "        text-align: right;\n",
              "    }\n",
              "</style>\n",
              "<table border=\"1\" class=\"dataframe\">\n",
              "  <thead>\n",
              "    <tr style=\"text-align: right;\">\n",
              "      <th></th>\n",
              "      <th>child_mort</th>\n",
              "      <th>exports</th>\n",
              "      <th>health</th>\n",
              "      <th>imports</th>\n",
              "      <th>income</th>\n",
              "      <th>inflation</th>\n",
              "      <th>life_expec</th>\n",
              "      <th>total_fer</th>\n",
              "      <th>gdpp</th>\n",
              "    </tr>\n",
              "    <tr>\n",
              "      <th>0</th>\n",
              "      <th></th>\n",
              "      <th></th>\n",
              "      <th></th>\n",
              "      <th></th>\n",
              "      <th></th>\n",
              "      <th></th>\n",
              "      <th></th>\n",
              "      <th></th>\n",
              "      <th></th>\n",
              "    </tr>\n",
              "  </thead>\n",
              "  <tbody>\n",
              "    <tr>\n",
              "      <th>0</th>\n",
              "      <td>38.076068</td>\n",
              "      <td>18.201742</td>\n",
              "      <td>2.645319</td>\n",
              "      <td>19.323451</td>\n",
              "      <td>4890.581414</td>\n",
              "      <td>13.682630</td>\n",
              "      <td>6.897418</td>\n",
              "      <td>1.285590</td>\n",
              "      <td>2528.509189</td>\n",
              "    </tr>\n",
              "    <tr>\n",
              "      <th>1</th>\n",
              "      <td>8.523122</td>\n",
              "      <td>30.116032</td>\n",
              "      <td>2.716652</td>\n",
              "      <td>26.928785</td>\n",
              "      <td>20441.749847</td>\n",
              "      <td>6.957187</td>\n",
              "      <td>3.735757</td>\n",
              "      <td>0.486744</td>\n",
              "      <td>20578.727127</td>\n",
              "    </tr>\n",
              "  </tbody>\n",
              "</table>\n",
              "</div>\n",
              "    <div class=\"colab-df-buttons\">\n",
              "\n",
              "  <div class=\"colab-df-container\">\n",
              "    <button class=\"colab-df-convert\" onclick=\"convertToInteractive('df-35754096-09f1-453b-b552-47da0b865940')\"\n",
              "            title=\"Convert this dataframe to an interactive table.\"\n",
              "            style=\"display:none;\">\n",
              "\n",
              "  <svg xmlns=\"http://www.w3.org/2000/svg\" height=\"24px\" viewBox=\"0 -960 960 960\">\n",
              "    <path d=\"M120-120v-720h720v720H120Zm60-500h600v-160H180v160Zm220 220h160v-160H400v160Zm0 220h160v-160H400v160ZM180-400h160v-160H180v160Zm440 0h160v-160H620v160ZM180-180h160v-160H180v160Zm440 0h160v-160H620v160Z\"/>\n",
              "  </svg>\n",
              "    </button>\n",
              "\n",
              "  <style>\n",
              "    .colab-df-container {\n",
              "      display:flex;\n",
              "      gap: 12px;\n",
              "    }\n",
              "\n",
              "    .colab-df-convert {\n",
              "      background-color: #E8F0FE;\n",
              "      border: none;\n",
              "      border-radius: 50%;\n",
              "      cursor: pointer;\n",
              "      display: none;\n",
              "      fill: #1967D2;\n",
              "      height: 32px;\n",
              "      padding: 0 0 0 0;\n",
              "      width: 32px;\n",
              "    }\n",
              "\n",
              "    .colab-df-convert:hover {\n",
              "      background-color: #E2EBFA;\n",
              "      box-shadow: 0px 1px 2px rgba(60, 64, 67, 0.3), 0px 1px 3px 1px rgba(60, 64, 67, 0.15);\n",
              "      fill: #174EA6;\n",
              "    }\n",
              "\n",
              "    .colab-df-buttons div {\n",
              "      margin-bottom: 4px;\n",
              "    }\n",
              "\n",
              "    [theme=dark] .colab-df-convert {\n",
              "      background-color: #3B4455;\n",
              "      fill: #D2E3FC;\n",
              "    }\n",
              "\n",
              "    [theme=dark] .colab-df-convert:hover {\n",
              "      background-color: #434B5C;\n",
              "      box-shadow: 0px 1px 3px 1px rgba(0, 0, 0, 0.15);\n",
              "      filter: drop-shadow(0px 1px 2px rgba(0, 0, 0, 0.3));\n",
              "      fill: #FFFFFF;\n",
              "    }\n",
              "  </style>\n",
              "\n",
              "    <script>\n",
              "      const buttonEl =\n",
              "        document.querySelector('#df-35754096-09f1-453b-b552-47da0b865940 button.colab-df-convert');\n",
              "      buttonEl.style.display =\n",
              "        google.colab.kernel.accessAllowed ? 'block' : 'none';\n",
              "\n",
              "      async function convertToInteractive(key) {\n",
              "        const element = document.querySelector('#df-35754096-09f1-453b-b552-47da0b865940');\n",
              "        const dataTable =\n",
              "          await google.colab.kernel.invokeFunction('convertToInteractive',\n",
              "                                                    [key], {});\n",
              "        if (!dataTable) return;\n",
              "\n",
              "        const docLinkHtml = 'Like what you see? Visit the ' +\n",
              "          '<a target=\"_blank\" href=https://colab.research.google.com/notebooks/data_table.ipynb>data table notebook</a>'\n",
              "          + ' to learn more about interactive tables.';\n",
              "        element.innerHTML = '';\n",
              "        dataTable['output_type'] = 'display_data';\n",
              "        await google.colab.output.renderOutput(dataTable, element);\n",
              "        const docLink = document.createElement('div');\n",
              "        docLink.innerHTML = docLinkHtml;\n",
              "        element.appendChild(docLink);\n",
              "      }\n",
              "    </script>\n",
              "  </div>\n",
              "\n",
              "\n",
              "<div id=\"df-ae1eaa1d-e0a1-44f1-8b60-86a3ae89624b\">\n",
              "  <button class=\"colab-df-quickchart\" onclick=\"quickchart('df-ae1eaa1d-e0a1-44f1-8b60-86a3ae89624b')\"\n",
              "            title=\"Suggest charts\"\n",
              "            style=\"display:none;\">\n",
              "\n",
              "<svg xmlns=\"http://www.w3.org/2000/svg\" height=\"24px\"viewBox=\"0 0 24 24\"\n",
              "     width=\"24px\">\n",
              "    <g>\n",
              "        <path d=\"M19 3H5c-1.1 0-2 .9-2 2v14c0 1.1.9 2 2 2h14c1.1 0 2-.9 2-2V5c0-1.1-.9-2-2-2zM9 17H7v-7h2v7zm4 0h-2V7h2v10zm4 0h-2v-4h2v4z\"/>\n",
              "    </g>\n",
              "</svg>\n",
              "  </button>\n",
              "\n",
              "<style>\n",
              "  .colab-df-quickchart {\n",
              "      --bg-color: #E8F0FE;\n",
              "      --fill-color: #1967D2;\n",
              "      --hover-bg-color: #E2EBFA;\n",
              "      --hover-fill-color: #174EA6;\n",
              "      --disabled-fill-color: #AAA;\n",
              "      --disabled-bg-color: #DDD;\n",
              "  }\n",
              "\n",
              "  [theme=dark] .colab-df-quickchart {\n",
              "      --bg-color: #3B4455;\n",
              "      --fill-color: #D2E3FC;\n",
              "      --hover-bg-color: #434B5C;\n",
              "      --hover-fill-color: #FFFFFF;\n",
              "      --disabled-bg-color: #3B4455;\n",
              "      --disabled-fill-color: #666;\n",
              "  }\n",
              "\n",
              "  .colab-df-quickchart {\n",
              "    background-color: var(--bg-color);\n",
              "    border: none;\n",
              "    border-radius: 50%;\n",
              "    cursor: pointer;\n",
              "    display: none;\n",
              "    fill: var(--fill-color);\n",
              "    height: 32px;\n",
              "    padding: 0;\n",
              "    width: 32px;\n",
              "  }\n",
              "\n",
              "  .colab-df-quickchart:hover {\n",
              "    background-color: var(--hover-bg-color);\n",
              "    box-shadow: 0 1px 2px rgba(60, 64, 67, 0.3), 0 1px 3px 1px rgba(60, 64, 67, 0.15);\n",
              "    fill: var(--button-hover-fill-color);\n",
              "  }\n",
              "\n",
              "  .colab-df-quickchart-complete:disabled,\n",
              "  .colab-df-quickchart-complete:disabled:hover {\n",
              "    background-color: var(--disabled-bg-color);\n",
              "    fill: var(--disabled-fill-color);\n",
              "    box-shadow: none;\n",
              "  }\n",
              "\n",
              "  .colab-df-spinner {\n",
              "    border: 2px solid var(--fill-color);\n",
              "    border-color: transparent;\n",
              "    border-bottom-color: var(--fill-color);\n",
              "    animation:\n",
              "      spin 1s steps(1) infinite;\n",
              "  }\n",
              "\n",
              "  @keyframes spin {\n",
              "    0% {\n",
              "      border-color: transparent;\n",
              "      border-bottom-color: var(--fill-color);\n",
              "      border-left-color: var(--fill-color);\n",
              "    }\n",
              "    20% {\n",
              "      border-color: transparent;\n",
              "      border-left-color: var(--fill-color);\n",
              "      border-top-color: var(--fill-color);\n",
              "    }\n",
              "    30% {\n",
              "      border-color: transparent;\n",
              "      border-left-color: var(--fill-color);\n",
              "      border-top-color: var(--fill-color);\n",
              "      border-right-color: var(--fill-color);\n",
              "    }\n",
              "    40% {\n",
              "      border-color: transparent;\n",
              "      border-right-color: var(--fill-color);\n",
              "      border-top-color: var(--fill-color);\n",
              "    }\n",
              "    60% {\n",
              "      border-color: transparent;\n",
              "      border-right-color: var(--fill-color);\n",
              "    }\n",
              "    80% {\n",
              "      border-color: transparent;\n",
              "      border-right-color: var(--fill-color);\n",
              "      border-bottom-color: var(--fill-color);\n",
              "    }\n",
              "    90% {\n",
              "      border-color: transparent;\n",
              "      border-bottom-color: var(--fill-color);\n",
              "    }\n",
              "  }\n",
              "</style>\n",
              "\n",
              "  <script>\n",
              "    async function quickchart(key) {\n",
              "      const quickchartButtonEl =\n",
              "        document.querySelector('#' + key + ' button');\n",
              "      quickchartButtonEl.disabled = true;  // To prevent multiple clicks.\n",
              "      quickchartButtonEl.classList.add('colab-df-spinner');\n",
              "      try {\n",
              "        const charts = await google.colab.kernel.invokeFunction(\n",
              "            'suggestCharts', [key], {});\n",
              "      } catch (error) {\n",
              "        console.error('Error during call to suggestCharts:', error);\n",
              "      }\n",
              "      quickchartButtonEl.classList.remove('colab-df-spinner');\n",
              "      quickchartButtonEl.classList.add('colab-df-quickchart-complete');\n",
              "    }\n",
              "    (() => {\n",
              "      let quickchartButtonEl =\n",
              "        document.querySelector('#df-ae1eaa1d-e0a1-44f1-8b60-86a3ae89624b button');\n",
              "      quickchartButtonEl.style.display =\n",
              "        google.colab.kernel.accessAllowed ? 'block' : 'none';\n",
              "    })();\n",
              "  </script>\n",
              "</div>\n",
              "\n",
              "    </div>\n",
              "  </div>\n"
            ],
            "application/vnd.google.colaboratory.intrinsic+json": {
              "type": "dataframe",
              "summary": "{\n  \"name\": \"output\",\n  \"rows\": 2,\n  \"fields\": [\n    {\n      \"column\": \"child_mort\",\n      \"properties\": {\n        \"dtype\": \"number\",\n        \"std\": 20.897088200693794,\n        \"min\": 8.523122296899151,\n        \"max\": 38.076067844427094,\n        \"num_unique_values\": 2,\n        \"samples\": [\n          8.523122296899151,\n          38.076067844427094\n        ],\n        \"semantic_type\": \"\",\n        \"description\": \"\"\n      }\n    },\n    {\n      \"column\": \"exports\",\n      \"properties\": {\n        \"dtype\": \"number\",\n        \"std\": 8.424675306538195,\n        \"min\": 18.20174217960783,\n        \"max\": 30.116032256703857,\n        \"num_unique_values\": 2,\n        \"samples\": [\n          30.116032256703857,\n          18.20174217960783\n        ],\n        \"semantic_type\": \"\",\n        \"description\": \"\"\n      }\n    },\n    {\n      \"column\": \"health\",\n      \"properties\": {\n        \"dtype\": \"number\",\n        \"std\": 0.05043970336530223,\n        \"min\": 2.645319433154351,\n        \"max\": 2.716651945735637,\n        \"num_unique_values\": 2,\n        \"samples\": [\n          2.716651945735637,\n          2.645319433154351\n        ],\n        \"semantic_type\": \"\",\n        \"description\": \"\"\n      }\n    },\n    {\n      \"column\": \"imports\",\n      \"properties\": {\n        \"dtype\": \"number\",\n        \"std\": 5.3777826634210015,\n        \"min\": 19.323451484663124,\n        \"max\": 26.92878466276801,\n        \"num_unique_values\": 2,\n        \"samples\": [\n          26.92878466276801,\n          19.323451484663124\n        ],\n        \"semantic_type\": \"\",\n        \"description\": \"\"\n      }\n    },\n    {\n      \"column\": \"income\",\n      \"properties\": {\n        \"dtype\": \"number\",\n        \"std\": 10996.336654202347,\n        \"min\": 4890.581414447009,\n        \"max\": 20441.74984724035,\n        \"num_unique_values\": 2,\n        \"samples\": [\n          20441.74984724035,\n          4890.581414447009\n        ],\n        \"semantic_type\": \"\",\n        \"description\": \"\"\n      }\n    },\n    {\n      \"column\": \"inflation\",\n      \"properties\": {\n        \"dtype\": \"number\",\n        \"std\": 4.755605983130068,\n        \"min\": 6.957187439388876,\n        \"max\": 13.682629918034054,\n        \"num_unique_values\": 2,\n        \"samples\": [\n          6.957187439388876,\n          13.682629918034054\n        ],\n        \"semantic_type\": \"\",\n        \"description\": \"\"\n      }\n    },\n    {\n      \"column\": \"life_expec\",\n      \"properties\": {\n        \"dtype\": \"number\",\n        \"std\": 2.235631591310293,\n        \"min\": 3.7357571202629787,\n        \"max\": 6.8974176371637395,\n        \"num_unique_values\": 2,\n        \"samples\": [\n          3.7357571202629787,\n          6.8974176371637395\n        ],\n        \"semantic_type\": \"\",\n        \"description\": \"\"\n      }\n    },\n    {\n      \"column\": \"total_fer\",\n      \"properties\": {\n        \"dtype\": \"number\",\n        \"std\": 0.5648687426810362,\n        \"min\": 0.4867444723937763,\n        \"max\": 1.2855895092539356,\n        \"num_unique_values\": 2,\n        \"samples\": [\n          0.4867444723937763,\n          1.2855895092539356\n        ],\n        \"semantic_type\": \"\",\n        \"description\": \"\"\n      }\n    },\n    {\n      \"column\": \"gdpp\",\n      \"properties\": {\n        \"dtype\": \"number\",\n        \"std\": 12763.431505624647,\n        \"min\": 2528.5091892120467,\n        \"max\": 20578.727126886475,\n        \"num_unique_values\": 2,\n        \"samples\": [\n          20578.727126886475,\n          2528.5091892120467\n        ],\n        \"semantic_type\": \"\",\n        \"description\": \"\"\n      }\n    }\n  ]\n}"
            }
          },
          "metadata": {},
          "execution_count": 43
        }
      ]
    },
    {
      "cell_type": "code",
      "source": [
        "output.groupby(0).mean()"
      ],
      "metadata": {
        "id": "HpjZMgC4Smz9",
        "colab": {
          "base_uri": "https://localhost:8080/",
          "height": 178
        },
        "outputId": "52d5c454-153d-44cb-b7b9-1f870cebdf3d"
      },
      "execution_count": 44,
      "outputs": [
        {
          "output_type": "stream",
          "name": "stderr",
          "text": [
            "<ipython-input-44-e9a27c4e94ce>:1: FutureWarning: The default value of numeric_only in DataFrameGroupBy.mean is deprecated. In a future version, numeric_only will default to False. Either specify numeric_only or select only columns which should be valid for the function.\n",
            "  output.groupby(0).mean()\n"
          ]
        },
        {
          "output_type": "execute_result",
          "data": {
            "text/plain": [
              "   child_mort    exports    health    imports        income  inflation  \\\n",
              "0                                                                        \n",
              "0   76.280882  30.198515  6.090147  43.642146   4227.397059  11.098750   \n",
              "1   12.161616  48.603030  7.314040  49.121212  26017.171717   5.503545   \n",
              "\n",
              "   life_expec  total_fer          gdpp  \n",
              "0                                       \n",
              "0   61.910294   4.413824   1981.235294  \n",
              "1   76.493939   1.941111  20507.979798  "
            ],
            "text/html": [
              "\n",
              "  <div id=\"df-fa5de0d1-7fb1-4466-b92f-0f8d9f369e32\" class=\"colab-df-container\">\n",
              "    <div>\n",
              "<style scoped>\n",
              "    .dataframe tbody tr th:only-of-type {\n",
              "        vertical-align: middle;\n",
              "    }\n",
              "\n",
              "    .dataframe tbody tr th {\n",
              "        vertical-align: top;\n",
              "    }\n",
              "\n",
              "    .dataframe thead th {\n",
              "        text-align: right;\n",
              "    }\n",
              "</style>\n",
              "<table border=\"1\" class=\"dataframe\">\n",
              "  <thead>\n",
              "    <tr style=\"text-align: right;\">\n",
              "      <th></th>\n",
              "      <th>child_mort</th>\n",
              "      <th>exports</th>\n",
              "      <th>health</th>\n",
              "      <th>imports</th>\n",
              "      <th>income</th>\n",
              "      <th>inflation</th>\n",
              "      <th>life_expec</th>\n",
              "      <th>total_fer</th>\n",
              "      <th>gdpp</th>\n",
              "    </tr>\n",
              "    <tr>\n",
              "      <th>0</th>\n",
              "      <th></th>\n",
              "      <th></th>\n",
              "      <th></th>\n",
              "      <th></th>\n",
              "      <th></th>\n",
              "      <th></th>\n",
              "      <th></th>\n",
              "      <th></th>\n",
              "      <th></th>\n",
              "    </tr>\n",
              "  </thead>\n",
              "  <tbody>\n",
              "    <tr>\n",
              "      <th>0</th>\n",
              "      <td>76.280882</td>\n",
              "      <td>30.198515</td>\n",
              "      <td>6.090147</td>\n",
              "      <td>43.642146</td>\n",
              "      <td>4227.397059</td>\n",
              "      <td>11.098750</td>\n",
              "      <td>61.910294</td>\n",
              "      <td>4.413824</td>\n",
              "      <td>1981.235294</td>\n",
              "    </tr>\n",
              "    <tr>\n",
              "      <th>1</th>\n",
              "      <td>12.161616</td>\n",
              "      <td>48.603030</td>\n",
              "      <td>7.314040</td>\n",
              "      <td>49.121212</td>\n",
              "      <td>26017.171717</td>\n",
              "      <td>5.503545</td>\n",
              "      <td>76.493939</td>\n",
              "      <td>1.941111</td>\n",
              "      <td>20507.979798</td>\n",
              "    </tr>\n",
              "  </tbody>\n",
              "</table>\n",
              "</div>\n",
              "    <div class=\"colab-df-buttons\">\n",
              "\n",
              "  <div class=\"colab-df-container\">\n",
              "    <button class=\"colab-df-convert\" onclick=\"convertToInteractive('df-fa5de0d1-7fb1-4466-b92f-0f8d9f369e32')\"\n",
              "            title=\"Convert this dataframe to an interactive table.\"\n",
              "            style=\"display:none;\">\n",
              "\n",
              "  <svg xmlns=\"http://www.w3.org/2000/svg\" height=\"24px\" viewBox=\"0 -960 960 960\">\n",
              "    <path d=\"M120-120v-720h720v720H120Zm60-500h600v-160H180v160Zm220 220h160v-160H400v160Zm0 220h160v-160H400v160ZM180-400h160v-160H180v160Zm440 0h160v-160H620v160ZM180-180h160v-160H180v160Zm440 0h160v-160H620v160Z\"/>\n",
              "  </svg>\n",
              "    </button>\n",
              "\n",
              "  <style>\n",
              "    .colab-df-container {\n",
              "      display:flex;\n",
              "      gap: 12px;\n",
              "    }\n",
              "\n",
              "    .colab-df-convert {\n",
              "      background-color: #E8F0FE;\n",
              "      border: none;\n",
              "      border-radius: 50%;\n",
              "      cursor: pointer;\n",
              "      display: none;\n",
              "      fill: #1967D2;\n",
              "      height: 32px;\n",
              "      padding: 0 0 0 0;\n",
              "      width: 32px;\n",
              "    }\n",
              "\n",
              "    .colab-df-convert:hover {\n",
              "      background-color: #E2EBFA;\n",
              "      box-shadow: 0px 1px 2px rgba(60, 64, 67, 0.3), 0px 1px 3px 1px rgba(60, 64, 67, 0.15);\n",
              "      fill: #174EA6;\n",
              "    }\n",
              "\n",
              "    .colab-df-buttons div {\n",
              "      margin-bottom: 4px;\n",
              "    }\n",
              "\n",
              "    [theme=dark] .colab-df-convert {\n",
              "      background-color: #3B4455;\n",
              "      fill: #D2E3FC;\n",
              "    }\n",
              "\n",
              "    [theme=dark] .colab-df-convert:hover {\n",
              "      background-color: #434B5C;\n",
              "      box-shadow: 0px 1px 3px 1px rgba(0, 0, 0, 0.15);\n",
              "      filter: drop-shadow(0px 1px 2px rgba(0, 0, 0, 0.3));\n",
              "      fill: #FFFFFF;\n",
              "    }\n",
              "  </style>\n",
              "\n",
              "    <script>\n",
              "      const buttonEl =\n",
              "        document.querySelector('#df-fa5de0d1-7fb1-4466-b92f-0f8d9f369e32 button.colab-df-convert');\n",
              "      buttonEl.style.display =\n",
              "        google.colab.kernel.accessAllowed ? 'block' : 'none';\n",
              "\n",
              "      async function convertToInteractive(key) {\n",
              "        const element = document.querySelector('#df-fa5de0d1-7fb1-4466-b92f-0f8d9f369e32');\n",
              "        const dataTable =\n",
              "          await google.colab.kernel.invokeFunction('convertToInteractive',\n",
              "                                                    [key], {});\n",
              "        if (!dataTable) return;\n",
              "\n",
              "        const docLinkHtml = 'Like what you see? Visit the ' +\n",
              "          '<a target=\"_blank\" href=https://colab.research.google.com/notebooks/data_table.ipynb>data table notebook</a>'\n",
              "          + ' to learn more about interactive tables.';\n",
              "        element.innerHTML = '';\n",
              "        dataTable['output_type'] = 'display_data';\n",
              "        await google.colab.output.renderOutput(dataTable, element);\n",
              "        const docLink = document.createElement('div');\n",
              "        docLink.innerHTML = docLinkHtml;\n",
              "        element.appendChild(docLink);\n",
              "      }\n",
              "    </script>\n",
              "  </div>\n",
              "\n",
              "\n",
              "<div id=\"df-c39f9492-7b8d-40cb-8666-8feb3c8a52c7\">\n",
              "  <button class=\"colab-df-quickchart\" onclick=\"quickchart('df-c39f9492-7b8d-40cb-8666-8feb3c8a52c7')\"\n",
              "            title=\"Suggest charts\"\n",
              "            style=\"display:none;\">\n",
              "\n",
              "<svg xmlns=\"http://www.w3.org/2000/svg\" height=\"24px\"viewBox=\"0 0 24 24\"\n",
              "     width=\"24px\">\n",
              "    <g>\n",
              "        <path d=\"M19 3H5c-1.1 0-2 .9-2 2v14c0 1.1.9 2 2 2h14c1.1 0 2-.9 2-2V5c0-1.1-.9-2-2-2zM9 17H7v-7h2v7zm4 0h-2V7h2v10zm4 0h-2v-4h2v4z\"/>\n",
              "    </g>\n",
              "</svg>\n",
              "  </button>\n",
              "\n",
              "<style>\n",
              "  .colab-df-quickchart {\n",
              "      --bg-color: #E8F0FE;\n",
              "      --fill-color: #1967D2;\n",
              "      --hover-bg-color: #E2EBFA;\n",
              "      --hover-fill-color: #174EA6;\n",
              "      --disabled-fill-color: #AAA;\n",
              "      --disabled-bg-color: #DDD;\n",
              "  }\n",
              "\n",
              "  [theme=dark] .colab-df-quickchart {\n",
              "      --bg-color: #3B4455;\n",
              "      --fill-color: #D2E3FC;\n",
              "      --hover-bg-color: #434B5C;\n",
              "      --hover-fill-color: #FFFFFF;\n",
              "      --disabled-bg-color: #3B4455;\n",
              "      --disabled-fill-color: #666;\n",
              "  }\n",
              "\n",
              "  .colab-df-quickchart {\n",
              "    background-color: var(--bg-color);\n",
              "    border: none;\n",
              "    border-radius: 50%;\n",
              "    cursor: pointer;\n",
              "    display: none;\n",
              "    fill: var(--fill-color);\n",
              "    height: 32px;\n",
              "    padding: 0;\n",
              "    width: 32px;\n",
              "  }\n",
              "\n",
              "  .colab-df-quickchart:hover {\n",
              "    background-color: var(--hover-bg-color);\n",
              "    box-shadow: 0 1px 2px rgba(60, 64, 67, 0.3), 0 1px 3px 1px rgba(60, 64, 67, 0.15);\n",
              "    fill: var(--button-hover-fill-color);\n",
              "  }\n",
              "\n",
              "  .colab-df-quickchart-complete:disabled,\n",
              "  .colab-df-quickchart-complete:disabled:hover {\n",
              "    background-color: var(--disabled-bg-color);\n",
              "    fill: var(--disabled-fill-color);\n",
              "    box-shadow: none;\n",
              "  }\n",
              "\n",
              "  .colab-df-spinner {\n",
              "    border: 2px solid var(--fill-color);\n",
              "    border-color: transparent;\n",
              "    border-bottom-color: var(--fill-color);\n",
              "    animation:\n",
              "      spin 1s steps(1) infinite;\n",
              "  }\n",
              "\n",
              "  @keyframes spin {\n",
              "    0% {\n",
              "      border-color: transparent;\n",
              "      border-bottom-color: var(--fill-color);\n",
              "      border-left-color: var(--fill-color);\n",
              "    }\n",
              "    20% {\n",
              "      border-color: transparent;\n",
              "      border-left-color: var(--fill-color);\n",
              "      border-top-color: var(--fill-color);\n",
              "    }\n",
              "    30% {\n",
              "      border-color: transparent;\n",
              "      border-left-color: var(--fill-color);\n",
              "      border-top-color: var(--fill-color);\n",
              "      border-right-color: var(--fill-color);\n",
              "    }\n",
              "    40% {\n",
              "      border-color: transparent;\n",
              "      border-right-color: var(--fill-color);\n",
              "      border-top-color: var(--fill-color);\n",
              "    }\n",
              "    60% {\n",
              "      border-color: transparent;\n",
              "      border-right-color: var(--fill-color);\n",
              "    }\n",
              "    80% {\n",
              "      border-color: transparent;\n",
              "      border-right-color: var(--fill-color);\n",
              "      border-bottom-color: var(--fill-color);\n",
              "    }\n",
              "    90% {\n",
              "      border-color: transparent;\n",
              "      border-bottom-color: var(--fill-color);\n",
              "    }\n",
              "  }\n",
              "</style>\n",
              "\n",
              "  <script>\n",
              "    async function quickchart(key) {\n",
              "      const quickchartButtonEl =\n",
              "        document.querySelector('#' + key + ' button');\n",
              "      quickchartButtonEl.disabled = true;  // To prevent multiple clicks.\n",
              "      quickchartButtonEl.classList.add('colab-df-spinner');\n",
              "      try {\n",
              "        const charts = await google.colab.kernel.invokeFunction(\n",
              "            'suggestCharts', [key], {});\n",
              "      } catch (error) {\n",
              "        console.error('Error during call to suggestCharts:', error);\n",
              "      }\n",
              "      quickchartButtonEl.classList.remove('colab-df-spinner');\n",
              "      quickchartButtonEl.classList.add('colab-df-quickchart-complete');\n",
              "    }\n",
              "    (() => {\n",
              "      let quickchartButtonEl =\n",
              "        document.querySelector('#df-c39f9492-7b8d-40cb-8666-8feb3c8a52c7 button');\n",
              "      quickchartButtonEl.style.display =\n",
              "        google.colab.kernel.accessAllowed ? 'block' : 'none';\n",
              "    })();\n",
              "  </script>\n",
              "</div>\n",
              "\n",
              "    </div>\n",
              "  </div>\n"
            ],
            "application/vnd.google.colaboratory.intrinsic+json": {
              "type": "dataframe",
              "summary": "{\n  \"name\": \"output\",\n  \"rows\": 2,\n  \"fields\": [\n    {\n      \"column\": \"child_mort\",\n      \"properties\": {\n        \"dtype\": \"number\",\n        \"std\": 45.33916792859125,\n        \"min\": 12.16161616161616,\n        \"max\": 76.28088235294118,\n        \"num_unique_values\": 2,\n        \"samples\": [\n          12.16161616161616,\n          76.28088235294118\n        ],\n        \"semantic_type\": \"\",\n        \"description\": \"\"\n      }\n    },\n    {\n      \"column\": \"exports\",\n      \"properties\": {\n        \"dtype\": \"number\",\n        \"std\": 13.013957783196899,\n        \"min\": 30.19851470588235,\n        \"max\": 48.6030303030303,\n        \"num_unique_values\": 2,\n        \"samples\": [\n          48.6030303030303,\n          30.19851470588235\n        ],\n        \"semantic_type\": \"\",\n        \"description\": \"\"\n      }\n    },\n    {\n      \"column\": \"health\",\n      \"properties\": {\n        \"dtype\": \"number\",\n        \"std\": 0.8654232838519406,\n        \"min\": 6.090147058823529,\n        \"max\": 7.314040404040404,\n        \"num_unique_values\": 2,\n        \"samples\": [\n          7.314040404040404,\n          6.090147058823529\n        ],\n        \"semantic_type\": \"\",\n        \"description\": \"\"\n      }\n    },\n    {\n      \"column\": \"imports\",\n      \"properties\": {\n        \"dtype\": \"number\",\n        \"std\": 3.8742851000401832,\n        \"min\": 43.642145588235294,\n        \"max\": 49.121212121212125,\n        \"num_unique_values\": 2,\n        \"samples\": [\n          49.121212121212125,\n          43.642145588235294\n        ],\n        \"semantic_type\": \"\",\n        \"description\": \"\"\n      }\n    },\n    {\n      \"column\": \"income\",\n      \"properties\": {\n        \"dtype\": \"number\",\n        \"std\": 15407.69742144479,\n        \"min\": 4227.39705882353,\n        \"max\": 26017.171717171717,\n        \"num_unique_values\": 2,\n        \"samples\": [\n          26017.171717171717,\n          4227.39705882353\n        ],\n        \"semantic_type\": \"\",\n        \"description\": \"\"\n      }\n    },\n    {\n      \"column\": \"inflation\",\n      \"properties\": {\n        \"dtype\": \"number\",\n        \"std\": 3.956407076216704,\n        \"min\": 5.5035454545454545,\n        \"max\": 11.09875,\n        \"num_unique_values\": 2,\n        \"samples\": [\n          5.5035454545454545,\n          11.09875\n        ],\n        \"semantic_type\": \"\",\n        \"description\": \"\"\n      }\n    },\n    {\n      \"column\": \"life_expec\",\n      \"properties\": {\n        \"dtype\": \"number\",\n        \"std\": 10.312194469285467,\n        \"min\": 61.910294117647055,\n        \"max\": 76.49393939393939,\n        \"num_unique_values\": 2,\n        \"samples\": [\n          76.49393939393939,\n          61.910294117647055\n        ],\n        \"semantic_type\": \"\",\n        \"description\": \"\"\n      }\n    },\n    {\n      \"column\": \"total_fer\",\n      \"properties\": {\n        \"dtype\": \"number\",\n        \"std\": 1.7484717189045793,\n        \"min\": 1.941111111111111,\n        \"max\": 4.413823529411765,\n        \"num_unique_values\": 2,\n        \"samples\": [\n          1.941111111111111,\n          4.413823529411765\n        ],\n        \"semantic_type\": \"\",\n        \"description\": \"\"\n      }\n    },\n    {\n      \"column\": \"gdpp\",\n      \"properties\": {\n        \"dtype\": \"number\",\n        \"std\": 13100.386671991526,\n        \"min\": 1981.235294117647,\n        \"max\": 20507.9797979798,\n        \"num_unique_values\": 2,\n        \"samples\": [\n          20507.9797979798,\n          1981.235294117647\n        ],\n        \"semantic_type\": \"\",\n        \"description\": \"\"\n      }\n    }\n  ]\n}"
            }
          },
          "metadata": {},
          "execution_count": 44
        }
      ]
    },
    {
      "cell_type": "code",
      "source": [],
      "metadata": {
        "id": "PUsl2OxkrY8P"
      },
      "execution_count": 44,
      "outputs": []
    },
    {
      "cell_type": "markdown",
      "source": [
        "# 9.) Write an observation about the descriptive statistics."
      ],
      "metadata": {
        "id": "x_rQZjMrUKY8"
      }
    },
    {
      "cell_type": "markdown",
      "source": [
        "Variability: Cluster 1 shows greater variability in metrics like child mortality and GDP per capita, indicating diverse economic and health conditions within this cluster. In contrast, Cluster 0 exhibits lower variability, suggesting more uniformity among its countries.\n",
        "\n",
        "Means: Cluster 1 averages higher in income, life expectancy, and GDP per capita, implying it consists of more developed countries with superior economic and health status. Cluster 0, with lower averages, likely represents less developed countries.\n",
        "\n",
        "Health Spending and Life Expectancy: The marked difference in health spending and life expectancy between clusters underscores a potential link between healthcare investment and improved health outcomes.\n",
        "\n",
        "Economic Indicators: The significant disparity in mean income and GDP per capita between the clusters points to economic differences, with Cluster 1 possibly encompassing more affluent, developed nations."
      ],
      "metadata": {
        "id": "JjQ7ye44_ZVs"
      }
    }
  ]
}