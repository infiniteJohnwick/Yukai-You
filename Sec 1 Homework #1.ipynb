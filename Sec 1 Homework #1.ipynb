{
 "cells": [
  {
   "cell_type": "code",
   "execution_count": null,
   "id": "8420ed1d",
   "metadata": {},
   "outputs": [],
   "source": [
    "import pandas as pd\n",
    "import statsmodels.api as sm"
   ]
  },
  {
   "cell_type": "markdown",
   "id": "2ad4913a",
   "metadata": {},
   "source": [
    "# 1.) Import Data from FRED"
   ]
  },
  {
   "cell_type": "code",
   "execution_count": null,
   "id": "b4dc39ea",
   "metadata": {},
   "outputs": [],
   "source": [
    "data = pd.read_csv(\"TaylorRuleData.csv\", index_col = 0)"
   ]
  },
  {
   "cell_type": "code",
   "execution_count": null,
   "id": "a9a777c9",
   "metadata": {},
   "outputs": [],
   "source": [
    "data.index = pd.to_datetime(data.index)"
   ]
  },
  {
   "cell_type": "code",
   "execution_count": null,
   "id": "b16ba1d0",
   "metadata": {},
   "outputs": [],
   "source": []
  },
  {
   "cell_type": "markdown",
   "id": "65d21e79",
   "metadata": {},
   "source": [
    "# 2.) Do Not Randomize, split your data into Train, Test Holdout"
   ]
  },
  {
   "cell_type": "code",
   "execution_count": null,
   "id": "2d3984d3",
   "metadata": {},
   "outputs": [],
   "source": [
    "split_1 = \n",
    "split_2 = \n",
    "data_in = \n",
    "data_out = \n",
    "data_hold = "
   ]
  },
  {
   "cell_type": "code",
   "execution_count": null,
   "id": "62d80567",
   "metadata": {},
   "outputs": [],
   "source": [
    "X_in = \n",
    "y_in = \n",
    "X_out = \n",
    "y_out = \n",
    "X_hold = \n",
    "y_hold = "
   ]
  },
  {
   "cell_type": "code",
   "execution_count": null,
   "id": "07ffa01b",
   "metadata": {},
   "outputs": [],
   "source": [
    "# Add Constants\n",
    "X_in = \n",
    "X_out =  \n",
    "X_hold =  "
   ]
  },
  {
   "cell_type": "markdown",
   "id": "385ba1d0",
   "metadata": {},
   "source": [
    "# 3.) Build a model that regresses FF~Unemp, HousingStarts, Inflation"
   ]
  },
  {
   "cell_type": "code",
   "execution_count": null,
   "id": "a09b2262",
   "metadata": {},
   "outputs": [],
   "source": [
    "model1 = "
   ]
  },
  {
   "cell_type": "markdown",
   "id": "4c59d5dc",
   "metadata": {},
   "source": [
    "# 4.) Recreate the graph fro your model"
   ]
  },
  {
   "cell_type": "code",
   "execution_count": null,
   "id": "fd87e6f8",
   "metadata": {},
   "outputs": [],
   "source": [
    "import matplotlib.pyplot as plt"
   ]
  },
  {
   "cell_type": "code",
   "execution_count": null,
   "id": "7d9fc71c",
   "metadata": {},
   "outputs": [],
   "source": [
    "plt.figure(figsize = (12,5))\n",
    "\n",
    "###\n",
    "\n",
    "###\n",
    "\n",
    "plt.ylabel(\"Fed Funds\")\n",
    "plt.xlabel(\"Time\")\n",
    "plt.title(\"Visualizing Model Accuracy\")\n",
    "plt.legend([])\n",
    "plt.grid()\n",
    "plt.show()"
   ]
  },
  {
   "cell_type": "markdown",
   "id": "352c7d82",
   "metadata": {},
   "source": [
    "## \"All Models are wrong but some are useful\" - 1976 George Box"
   ]
  },
  {
   "cell_type": "markdown",
   "id": "aafc27f5",
   "metadata": {},
   "source": [
    "# 5.) What are the in/out of sample MSEs"
   ]
  },
  {
   "cell_type": "code",
   "execution_count": null,
   "id": "3e574719",
   "metadata": {},
   "outputs": [],
   "source": [
    "from sklearn.metrics import mean_squared_error"
   ]
  },
  {
   "cell_type": "code",
   "execution_count": null,
   "id": "7b6b7985",
   "metadata": {},
   "outputs": [],
   "source": [
    "in_mse_1 = \n",
    "out_mse_1 = "
   ]
  },
  {
   "cell_type": "code",
   "execution_count": null,
   "id": "ed315f24",
   "metadata": {},
   "outputs": [],
   "source": [
    "print(\"Insample MSE : \", in_mse_1)\n",
    "print(\"Outsample MSE : \", out_mse_1)"
   ]
  },
  {
   "cell_type": "markdown",
   "id": "35e07201",
   "metadata": {},
   "source": [
    "# 6.) Using a for loop. Repeat 3,4,5 for polynomial degrees 1,2,3"
   ]
  },
  {
   "cell_type": "code",
   "execution_count": null,
   "id": "1b65cf48",
   "metadata": {},
   "outputs": [],
   "source": [
    "from sklearn.preprocessing import PolynomialFeatures"
   ]
  },
  {
   "cell_type": "code",
   "execution_count": null,
   "id": "332af322",
   "metadata": {},
   "outputs": [],
   "source": []
  },
  {
   "cell_type": "markdown",
   "id": "c67b45c5",
   "metadata": {},
   "source": [
    "# 7.) State your observations :"
   ]
  },
  {
   "cell_type": "markdown",
   "id": "5d2fc10f",
   "metadata": {},
   "source": []
  },
  {
   "cell_type": "code",
   "execution_count": null,
   "id": "60b440c8",
   "metadata": {},
   "outputs": [],
   "source": []
  }
 ],
 "metadata": {
  "kernelspec": {
   "display_name": "Python 3",
   "language": "python",
   "name": "python3"
  },
  "language_info": {
   "codemirror_mode": {
    "name": "ipython",
    "version": 3
   },
   "file_extension": ".py",
   "mimetype": "text/x-python",
   "name": "python",
   "nbconvert_exporter": "python",
   "pygments_lexer": "ipython3",
   "version": "3.8.12"
  }
 },
 "nbformat": 4,
 "nbformat_minor": 5
}
